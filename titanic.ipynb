{
 "cells": [
  {
   "cell_type": "code",
   "execution_count": 2,
   "metadata": {},
   "outputs": [],
   "source": [
    "import pandas as pd\n",
    "import csv as csv\n",
    "from sklearn.ensemble import RandomForestClassifier\n",
    "\n",
    "# Load training data\n",
    "train_df = pd.read_csv(\"train.csv\", header=0)\n",
    "\n",
    "# Convert \"Sex\" to be a dummy variable (female = 0, Male = 1)\n",
    "train_df[\"Gender\"] = train_df[\"Sex\"].map({\"female\": 0, \"male\": 1}).astype(int)\n",
    "train_df.head(3)\n",
    "\n",
    "# Complement the missing values of \"Age\" column with average of \"Age\"\n",
    "median_age = train_df[\"Age\"].dropna().median()\n",
    "if len(train_df.Age[train_df.Age.isnull()]) > 0:\n",
    "  train_df.loc[(train_df.Age.isnull()), \"Age\"] = median_age\n",
    "\n",
    "# remove un-used columns\n",
    "train_df = train_df.drop([\"Name\", \"Ticket\", \"Sex\", \"SibSp\", \"Parch\", \"Fare\", \"Cabin\", \"Embarked\", \"PassengerId\"], axis=1)\n",
    "train_df.head(3)\n",
    "\n",
    "# Load test data, Convert \"Sex\" to be a dummy variable\n",
    "test_df = pd.read_csv(\"test.csv\", header=0)\n",
    "test_df[\"Gender\"] = test_df[\"Sex\"].map({\"female\": 0, \"male\": 1}).astype(int)\n",
    "\n",
    "# Complement the missing values of \"Age\" column with average of \"Age\"\n",
    "median_age = test_df[\"Age\"].dropna().median()\n",
    "if len(test_df.Age[test_df.Age.isnull()]) > 0:\n",
    "  test_df.loc[(test_df.Age.isnull()), \"Age\"] = median_age\n",
    "\n",
    "# Copy test data's \"PassengerId\" column, and remove un-used columns\n",
    "ids = test_df[\"PassengerId\"].values\n",
    "test_df = test_df.drop([\"Name\", \"Ticket\", \"Sex\", \"SibSp\", \"Parch\", \"Fare\", \"Cabin\", \"Embarked\", \"PassengerId\"], axis=1)\n",
    "test_df.head(3)\n",
    "\n",
    "# Predict with \"Random Forest\"\n",
    "train_data = train_df.values\n",
    "test_data = test_df.values\n",
    "model = RandomForestClassifier(n_estimators=100)\n",
    "output = model.fit(train_data[0::, 1::], train_data[0::, 0]).predict(test_data).astype(int)\n",
    "\n",
    "# export result to be \"titanic_submit.csv\"\n",
    "submit_file = open(\"titanic_submit.csv\", \"w\")\n",
    "file_object = csv.writer(submit_file)\n",
    "file_object.writerow([\"PassengerId\", \"Survived\"])\n",
    "file_object.writerows(zip(ids, output))\n",
    "submit_file.close()"
   ]
  }
 ],
 "metadata": {
  "kernelspec": {
   "display_name": "Python 3",
   "language": "python",
   "name": "python3"
  },
  "language_info": {
   "codemirror_mode": {
    "name": "ipython",
    "version": 3
   },
   "file_extension": ".py",
   "mimetype": "text/x-python",
   "name": "python",
   "nbconvert_exporter": "python",
   "pygments_lexer": "ipython3",
   "version": "3.6.5"
  }
 },
 "nbformat": 4,
 "nbformat_minor": 2
}
